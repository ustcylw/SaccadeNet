{
 "cells": [
  {
   "cell_type": "markdown",
   "id": "fd90d5cc-0836-4952-8471-66e2948c9d0c",
   "metadata": {},
   "source": [
    "# SaccadeNet"
   ]
  },
  {
   "cell_type": "markdown",
   "id": "0c18c9c2-a64c-4e28-9045-bb6def444872",
   "metadata": {},
   "source": [
    "refs:\n",
    "\n",
    "[又一款速度、精度超越Centernet和YOLO3的网络：SaccadeNet！](https://blog.csdn.net/baobei0112/article/details/105492935?utm_medium=distribute.pc_aggpage_search_result.none-task-blog-2~aggregatepage~first_rank_ecpm_v1~rank_v31_ecpm-11-105492935.pc_agg_new_rank&utm_term=centernet%E5%8D%8A%E5%BE%84&spm=1000.2123.3001.4430)\n",
    "\n",
    "[]()"
   ]
  }
 ],
 "metadata": {
  "kernelspec": {
   "display_name": "“autodrive”",
   "language": "python",
   "name": "autodrive"
  },
  "language_info": {
   "codemirror_mode": {
    "name": "ipython",
    "version": 3
   },
   "file_extension": ".py",
   "mimetype": "text/x-python",
   "name": "python",
   "nbconvert_exporter": "python",
   "pygments_lexer": "ipython3",
   "version": "3.8.12"
  }
 },
 "nbformat": 4,
 "nbformat_minor": 5
}
